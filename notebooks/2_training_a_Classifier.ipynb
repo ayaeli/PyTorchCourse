{
  "nbformat": 4,
  "nbformat_minor": 0,
  "metadata": {
    "colab": {
      "name": "2. training a Classifier.ipynb",
      "version": "0.3.2",
      "provenance": [],
      "collapsed_sections": [],
      "include_colab_link": true
    },
    "kernelspec": {
      "name": "python3",
      "display_name": "Python 3"
    },
    "accelerator": "GPU"
  },
  "cells": [
    {
      "cell_type": "markdown",
      "metadata": {
        "id": "view-in-github",
        "colab_type": "text"
      },
      "source": [
        "<a href=\"https://colab.research.google.com/github/mataney/PyTorchCourse/blob/master/2_training_a_Classifier.ipynb\" target=\"_parent\"><img src=\"https://colab.research.google.com/assets/colab-badge.svg\" alt=\"Open In Colab\"/></a>"
      ]
    },
    {
      "cell_type": "markdown",
      "metadata": {
        "id": "jMC5O5ZFRQiy",
        "colab_type": "text"
      },
      "source": [
        "# Trainig a Classifier"
      ]
    },
    {
      "cell_type": "markdown",
      "metadata": {
        "id": "yYh-24MVRVln",
        "colab_type": "text"
      },
      "source": [
        "Let's build a classification network.\n",
        "\n",
        "We will do the following steps in order:\n",
        "\n",
        "- Get familiar with torchvision\n",
        "- Load and get familiar with the dataset, we will use the CIFAR10 training and test datasets using torchvision.\n",
        "- Define a Neural Network  that has some learnable parameters (or weights).\n",
        "- CUDA\n",
        "- Define a loss function and optimizer\n",
        "- Iterate over a dataset of inputs\n",
        "- Train the network on the training data\n",
        "- Test the network on the test data"
      ]
    },
    {
      "cell_type": "markdown",
      "metadata": {
        "id": "cSF5k_igXa1G",
        "colab_type": "text"
      },
      "source": [
        "## torchvision\n",
        "\n",
        "The `torchvision` package consists of popular datasets, model architectures, and common image transformations for computer vision.\n",
        "\n",
        "We will use `torchvision` for loading the CIFAR10 dataset."
      ]
    },
    {
      "cell_type": "code",
      "metadata": {
        "id": "t6t2BtzuR84A",
        "colab_type": "code",
        "colab": {}
      },
      "source": [
        "import torch\n",
        "import torchvision"
      ],
      "execution_count": 0,
      "outputs": []
    },
    {
      "cell_type": "markdown",
      "metadata": {
        "id": "bxGo4keMYEqr",
        "colab_type": "text"
      },
      "source": [
        "We want to download the CIFAR10 dataset. we can do this by:\n",
        "```\n",
        "trainset = torchvision.datasets.CIFAR10(root='./data', train=True, download=True)\n",
        "testset = torchvision.datasets.CIFAR10(root='./data', train=False, download=True)\n",
        "```\n",
        "\n",
        "But,  \n",
        "The output of torchvision datasets are PILImage, we want to recieve tensors.\n",
        "Use `torchvision.transforms` for this"
      ]
    },
    {
      "cell_type": "markdown",
      "metadata": {
        "id": "OgRI00Uwm4kW",
        "colab_type": "text"
      },
      "source": [
        "## Load and get familiar with CIFAR10"
      ]
    },
    {
      "cell_type": "code",
      "metadata": {
        "id": "grf0qWK-Pwfz",
        "colab_type": "code",
        "colab": {}
      },
      "source": [
        "import torchvision.transforms as transforms\n",
        "transform = transforms.Compose([transforms.ToTensor()])"
      ],
      "execution_count": 0,
      "outputs": []
    },
    {
      "cell_type": "code",
      "metadata": {
        "id": "vU45DMNbalAn",
        "colab_type": "code",
        "outputId": "da907925-8f35-4f9c-98e4-c829f658e112",
        "colab": {
          "base_uri": "https://localhost:8080/",
          "height": 68
        }
      },
      "source": [
        "batch_size = 32\n",
        "\n",
        "trainset = torchvision.datasets.CIFAR10(root='./data', train=True,\n",
        "                                        download=True, transform=transform)\n",
        "trainloader = torch.utils.data.DataLoader(trainset, batch_size=batch_size,\n",
        "                                          shuffle=True, num_workers=2)\n",
        "\n",
        "testset = torchvision.datasets.CIFAR10(root='./data', train=False,\n",
        "                                       download=True, transform=transform)\n",
        "testloader = torch.utils.data.DataLoader(testset, batch_size=batch_size,\n",
        "                                         shuffle=False, num_workers=2)\n",
        "\n",
        "classes = ('plane', 'car', 'bird', 'cat',\n",
        "           'deer', 'dog', 'frog', 'horse', 'ship', 'truck')\n"
      ],
      "execution_count": 0,
      "outputs": [
        {
          "output_type": "stream",
          "text": [
            "  0%|          | 0/170498071 [00:00<?, ?it/s]"
          ],
          "name": "stderr"
        },
        {
          "output_type": "stream",
          "text": [
            "Downloading https://www.cs.toronto.edu/~kriz/cifar-10-python.tar.gz to ./data/cifar-10-python.tar.gz\n"
          ],
          "name": "stdout"
        },
        {
          "output_type": "stream",
          "text": [
            "170500096it [00:08, 20182739.45it/s]                               \n"
          ],
          "name": "stderr"
        },
        {
          "output_type": "stream",
          "text": [
            "Files already downloaded and verified\n"
          ],
          "name": "stdout"
        }
      ]
    },
    {
      "cell_type": "code",
      "metadata": {
        "id": "OP6GQKsFXESw",
        "colab_type": "code",
        "outputId": "81082164-011a-4051-b182-e3f99f57a216",
        "colab": {
          "base_uri": "https://localhost:8080/",
          "height": 510
        }
      },
      "source": [
        "print(trainset)\n",
        "print(trainset[0])\n",
        "print(f\"size: {trainset[0][0].size()}\")\n",
        "print(f\"class: {trainset[0][1]} ({classes[trainset[0][1]]})\")"
      ],
      "execution_count": 0,
      "outputs": [
        {
          "output_type": "stream",
          "text": [
            "Dataset CIFAR10\n",
            "    Number of datapoints: 50000\n",
            "    Root location: ./data\n",
            "    Split: Train\n",
            "(tensor([[[0.2314, 0.1686, 0.1961,  ..., 0.6196, 0.5961, 0.5804],\n",
            "         [0.0627, 0.0000, 0.0706,  ..., 0.4824, 0.4667, 0.4784],\n",
            "         [0.0980, 0.0627, 0.1922,  ..., 0.4627, 0.4706, 0.4275],\n",
            "         ...,\n",
            "         [0.8157, 0.7882, 0.7765,  ..., 0.6275, 0.2196, 0.2078],\n",
            "         [0.7059, 0.6784, 0.7294,  ..., 0.7216, 0.3804, 0.3255],\n",
            "         [0.6941, 0.6588, 0.7020,  ..., 0.8471, 0.5922, 0.4824]],\n",
            "\n",
            "        [[0.2431, 0.1804, 0.1882,  ..., 0.5176, 0.4902, 0.4863],\n",
            "         [0.0784, 0.0000, 0.0314,  ..., 0.3451, 0.3255, 0.3412],\n",
            "         [0.0941, 0.0275, 0.1059,  ..., 0.3294, 0.3294, 0.2863],\n",
            "         ...,\n",
            "         [0.6667, 0.6000, 0.6314,  ..., 0.5216, 0.1216, 0.1333],\n",
            "         [0.5451, 0.4824, 0.5647,  ..., 0.5804, 0.2431, 0.2078],\n",
            "         [0.5647, 0.5059, 0.5569,  ..., 0.7216, 0.4627, 0.3608]],\n",
            "\n",
            "        [[0.2471, 0.1765, 0.1686,  ..., 0.4235, 0.4000, 0.4039],\n",
            "         [0.0784, 0.0000, 0.0000,  ..., 0.2157, 0.1961, 0.2235],\n",
            "         [0.0824, 0.0000, 0.0314,  ..., 0.1961, 0.1961, 0.1647],\n",
            "         ...,\n",
            "         [0.3765, 0.1333, 0.1020,  ..., 0.2745, 0.0275, 0.0784],\n",
            "         [0.3765, 0.1647, 0.1176,  ..., 0.3686, 0.1333, 0.1333],\n",
            "         [0.4549, 0.3686, 0.3412,  ..., 0.5490, 0.3294, 0.2824]]]), 6)\n",
            "size: torch.Size([3, 32, 32])\n",
            "class: 6 (frog)\n"
          ],
          "name": "stdout"
        }
      ]
    },
    {
      "cell_type": "code",
      "metadata": {
        "id": "kCLerEUjXScK",
        "colab_type": "code",
        "outputId": "54cc6570-cceb-4da6-d8c3-c7f54c02a4d8",
        "colab": {
          "base_uri": "https://localhost:8080/",
          "height": 257
        }
      },
      "source": [
        "import matplotlib.pyplot as plt\n",
        "import numpy as np\n",
        "\n",
        "def imshow(img):\n",
        "    img = img / 2 + 0.5     # unnormalize\n",
        "    npimg = img.numpy()\n",
        "    plt.imshow(np.transpose(npimg, (1, 2, 0)))\n",
        "    plt.show()\n",
        "\n",
        "dataiter = iter(trainloader)\n",
        "images, labels = dataiter.next()\n",
        "\n",
        "imshow(torchvision.utils.make_grid(images))\n",
        "print(' '.join('%s,' % classes[labels[j]] for j in range(len(labels))))"
      ],
      "execution_count": 0,
      "outputs": [
        {
          "output_type": "display_data",
          "data": {
            "image/png": "[encoded data removed]",
            "text/plain": [
              "<Figure size 432x288 with 1 Axes>"
            ]
          },
          "metadata": {
            "tags": []
          }
        },
        {
          "output_type": "stream",
          "text": [
            "bird, deer, deer, dog, cat, truck, dog, bird, plane, dog, deer, plane, cat, truck, horse, ship, frog, dog, bird, deer, cat, truck, truck, frog, ship, ship, cat, ship, car, car, ship, truck,\n"
          ],
          "name": "stdout"
        }
      ]
    },
    {
      "cell_type": "markdown",
      "metadata": {
        "id": "Tv3g7uXDg9ms",
        "colab_type": "text"
      },
      "source": [
        "## Define the network"
      ]
    },
    {
      "cell_type": "markdown",
      "metadata": {
        "id": "6RbuVk90o8m0",
        "colab_type": "text"
      },
      "source": [
        "### nn.Module\n",
        "\n",
        "After we had a glimpse of tensors and autograd, let's have a look on `torch.nn`:  \n",
        "`torch.nn` depends on `autograd` to define models and differentiate them.  \n",
        "An `nn.Module` requires to implement a `forward(input)` method that returns the `output`.  \n",
        "The `backward` function (where gradients are computed) is automatically defined for you using `autograd`. You can use any of the Tensor operations in the `forward` function.\n",
        "\n"
      ]
    },
    {
      "cell_type": "markdown",
      "metadata": {
        "id": "n1uJbPUAMvwD",
        "colab_type": "text"
      },
      "source": [
        "For example let's have a look on `nn.Linear`:  \n",
        "This class applies a linear transformation to the incoming data: $y = xA^T + b$"
      ]
    },
    {
      "cell_type": "code",
      "metadata": {
        "id": "Rmy1qSvLNNlY",
        "colab_type": "code",
        "colab": {}
      },
      "source": [
        "??torch.nn.Linear"
      ],
      "execution_count": 0,
      "outputs": []
    },
    {
      "cell_type": "code",
      "metadata": {
        "id": "dNwX7sdpapcF",
        "colab_type": "code",
        "colab": {}
      },
      "source": [
        "??torch.nn.Parameter"
      ],
      "execution_count": 0,
      "outputs": []
    },
    {
      "cell_type": "markdown",
      "metadata": {
        "id": "e2-xnn1pMvUe",
        "colab_type": "text"
      },
      "source": [
        "For now this is what we need to do. Let's implement a `nn.Module`.\n",
        "\n",
        "Base class for all neural network modules.  \n",
        "Your models should also subclass this class.  \n",
        "This makes the associated `weights` to require grad, or `parameters`."
      ]
    },
    {
      "cell_type": "code",
      "metadata": {
        "id": "dm7MzpcqYgDg",
        "colab_type": "code",
        "colab": {}
      },
      "source": [
        "import torch.nn as nn\n",
        "import torch.nn.functional as F"
      ],
      "execution_count": 0,
      "outputs": []
    },
    {
      "cell_type": "code",
      "metadata": {
        "id": "JCyfJT5OcS2F",
        "colab_type": "code",
        "colab": {}
      },
      "source": [
        "class LinearModel(nn.Module):\n",
        "    def __init__(self):\n",
        "        super(LinearModel, self).__init__()\n",
        "        self.linear1 = nn.Linear(3 * 32 * 32, 100)\n",
        "        self.linear2 = nn.Linear(50, 10) #BUG :)\n",
        "\n",
        "    def forward(self, x):\n",
        "        batch, channels, w, h = x.size()        \n",
        "        x = self.linear1(x.view(batch, -1))\n",
        "        x = torch.relu(x)\n",
        "        x = self.linear2(x)\n",
        "        return x\n",
        "\n",
        "\n",
        "model = LinearModel()"
      ],
      "execution_count": 0,
      "outputs": []
    },
    {
      "cell_type": "markdown",
      "metadata": {
        "id": "4LXSYRCZ1ONJ",
        "colab_type": "text"
      },
      "source": [
        "## CUDA"
      ]
    },
    {
      "cell_type": "markdown",
      "metadata": {
        "id": "k9apWA0F1oZe",
        "colab_type": "text"
      },
      "source": [
        "If you recall, \"PyTorch replacement for NumPy to use the power of GPUs\".  \n",
        "We want all our tensors from the model to be on the GPU and not on the CPU.  \n",
        "How can we do this?"
      ]
    },
    {
      "cell_type": "code",
      "metadata": {
        "id": "IEEn0R78nP_8",
        "colab_type": "code",
        "outputId": "0347d2b1-ace6-4781-950e-7052bfd6caf8",
        "colab": {
          "base_uri": "https://localhost:8080/",
          "height": 34
        }
      },
      "source": [
        "device = torch.device(\"cuda:0\" if torch.cuda.is_available() else \"cpu\")\n",
        "device"
      ],
      "execution_count": 0,
      "outputs": [
        {
          "output_type": "execute_result",
          "data": {
            "text/plain": [
              "device(type='cuda', index=0)"
            ]
          },
          "metadata": {
            "tags": []
          },
          "execution_count": 25
        }
      ]
    },
    {
      "cell_type": "code",
      "metadata": {
        "id": "S0CG1JeUrMi0",
        "colab_type": "code",
        "outputId": "1fbf1de7-c18c-4593-bcc7-2e5e25568ff8",
        "colab": {
          "base_uri": "https://localhost:8080/",
          "height": 612
        }
      },
      "source": [
        "!nvidia-smi\n",
        "model.to(device)\n",
        "print(f\"\\nModel was uploaded to device {device}\\n\")\n",
        "!nvidia-smi"
      ],
      "execution_count": 0,
      "outputs": [
        {
          "output_type": "stream",
          "text": [
            "Thu May 30 11:13:03 2019       \n",
            "+-----------------------------------------------------------------------------+\n",
            "| NVIDIA-SMI 418.67       Driver Version: 410.79       CUDA Version: 10.0     |\n",
            "|-------------------------------+----------------------+----------------------+\n",
            "| GPU  Name        Persistence-M| Bus-Id        Disp.A | Volatile Uncorr. ECC |\n",
            "| Fan  Temp  Perf  Pwr:Usage/Cap|         Memory-Usage | GPU-Util  Compute M. |\n",
            "|===============================+======================+======================|\n",
            "|   0  Tesla T4            Off  | 00000000:00:04.0 Off |                    0 |\n",
            "| N/A   53C    P0    28W /  70W |    771MiB / 15079MiB |      0%      Default |\n",
            "+-------------------------------+----------------------+----------------------+\n",
            "                                                                               \n",
            "+-----------------------------------------------------------------------------+\n",
            "| Processes:                                                       GPU Memory |\n",
            "|  GPU       PID   Type   Process name                             Usage      |\n",
            "|=============================================================================|\n",
            "+-----------------------------------------------------------------------------+\n",
            "\n",
            "Model was uploaded to device cuda:0\n",
            "\n",
            "Thu May 30 11:13:09 2019       \n",
            "+-----------------------------------------------------------------------------+\n",
            "| NVIDIA-SMI 418.67       Driver Version: 410.79       CUDA Version: 10.0     |\n",
            "|-------------------------------+----------------------+----------------------+\n",
            "| GPU  Name        Persistence-M| Bus-Id        Disp.A | Volatile Uncorr. ECC |\n",
            "| Fan  Temp  Perf  Pwr:Usage/Cap|         Memory-Usage | GPU-Util  Compute M. |\n",
            "|===============================+======================+======================|\n",
            "|   0  Tesla T4            Off  | 00000000:00:04.0 Off |                    0 |\n",
            "| N/A   53C    P0    28W /  70W |   1552MiB / 15079MiB |      4%      Default |\n",
            "+-------------------------------+----------------------+----------------------+\n",
            "                                                                               \n",
            "+-----------------------------------------------------------------------------+\n",
            "| Processes:                                                       GPU Memory |\n",
            "|  GPU       PID   Type   Process name                             Usage      |\n",
            "|=============================================================================|\n",
            "+-----------------------------------------------------------------------------+\n"
          ],
          "name": "stdout"
        }
      ]
    },
    {
      "cell_type": "markdown",
      "metadata": {
        "id": "G9AQLliSmqH2",
        "colab_type": "text"
      },
      "source": [
        "### Loss function and Optimizer"
      ]
    },
    {
      "cell_type": "markdown",
      "metadata": {
        "id": "P-TCxVKNgtHv",
        "colab_type": "text"
      },
      "source": [
        "Now we need to ask ourselves 3 questions about the learning:\n",
        "- What components in our model should be learned?\n",
        "- With respect to what?\n",
        "- How should we learn? (i.e., how should we update the learnable components)\n",
        "\n",
        "Answers\n",
        "\n",
        "**What components in our model should be learned?:**  \n",
        "When we talked about `autograd` the gradient of the output was w.r.t the leaves (`x`).  \n",
        "What are the leaves in a neural network?  \n",
        "The learnable weights, or parameters, that is, the nn.Linear weigths etc.\n",
        "The learnable parameters of a model are returned by `.parameters()`.  \n",
        "Have a look:\n"
      ]
    },
    {
      "cell_type": "code",
      "metadata": {
        "id": "oObjHfLmdNQO",
        "colab_type": "code",
        "outputId": "3b048810-e97e-45c0-d869-60b914d087fc",
        "colab": {
          "base_uri": "https://localhost:8080/",
          "height": 85
        }
      },
      "source": [
        "[p.size() for p in model.parameters()]"
      ],
      "execution_count": 0,
      "outputs": [
        {
          "output_type": "execute_result",
          "data": {
            "text/plain": [
              "[torch.Size([100, 3072]),\n",
              " torch.Size([100]),\n",
              " torch.Size([10, 100]),\n",
              " torch.Size([10])]"
            ]
          },
          "metadata": {
            "tags": []
          },
          "execution_count": 39
        }
      ]
    },
    {
      "cell_type": "markdown",
      "metadata": {
        "id": "Mi02pdv7dM5B",
        "colab_type": "text"
      },
      "source": [
        "**With respect to what?**.  \n",
        "As always, we are learning to minimize/maximize some loss/cost function, sometimes called \"criterion\".  \n",
        "So this means we need to define one."
      ]
    },
    {
      "cell_type": "code",
      "metadata": {
        "id": "3kX2Z0qvdtr4",
        "colab_type": "code",
        "colab": {}
      },
      "source": [
        "criterion = nn.CrossEntropyLoss()"
      ],
      "execution_count": 0,
      "outputs": []
    },
    {
      "cell_type": "markdown",
      "metadata": {
        "id": "siZyxywYdsUy",
        "colab_type": "text"
      },
      "source": [
        "\n",
        "**How should we learn? (i.e., how should we update the learnable components)**.  \n",
        "We should update our weights with some optimizer, use Stochastic Gradient Descent for example.\n"
      ]
    },
    {
      "cell_type": "code",
      "metadata": {
        "id": "9tS971trh-Ww",
        "colab_type": "code",
        "colab": {}
      },
      "source": [
        "import torch.optim as optim\n",
        "\n",
        "optimizer = optim.SGD(model.parameters(), lr=0.001, momentum=0.9)"
      ],
      "execution_count": 0,
      "outputs": []
    },
    {
      "cell_type": "markdown",
      "metadata": {
        "id": "paQT8mxpmuOi",
        "colab_type": "text"
      },
      "source": [
        "### Training loop\n",
        "\n",
        "Let's write the most simple training loop:"
      ]
    },
    {
      "cell_type": "code",
      "metadata": {
        "id": "IuAY-6Cqd7c2",
        "colab_type": "code",
        "colab": {}
      },
      "source": [
        "??model.train()"
      ],
      "execution_count": 0,
      "outputs": []
    },
    {
      "cell_type": "code",
      "metadata": {
        "id": "PxqgplA_m0xu",
        "colab_type": "code",
        "colab": {}
      },
      "source": [
        "def train(model, num_epochs, trainloader, optimizer, criterion, device):\n",
        "  model.train() # This only sets a flag. This is relevent for component that ar\n",
        "                # being using only in training (Dropout for example)\n",
        "  for epoch in range(num_epochs):\n",
        "      running_loss = 0.0 # loss for this epoch\n",
        "      for i, data in enumerate(trainloader, 0):\n",
        "          inputs, labels = data\n",
        "          inputs, labels = inputs.to(device), labels.to(device)\n",
        "\n",
        "          optimizer.zero_grad() # zero the parameter gradients\n",
        "          # backward() function accumulates gradients so you have to zero them\n",
        "          # out at the start of a new minibatch.\n",
        "\n",
        "          outputs = model(inputs) # forward\n",
        "          loss = criterion(outputs, labels) # get loss\n",
        "          loss.backward() # backward: calculates gradients\n",
        "          optimizer.step() # optimize: Update Parameters wrt the gradients\n",
        "\n",
        "          running_loss += loss.item() # print statistics\n",
        "      print('[%d] loss: %.3f' % (epoch + 1, running_loss / len(trainloader)))\n",
        "\n",
        "  print('Finished Training')"
      ],
      "execution_count": 0,
      "outputs": []
    },
    {
      "cell_type": "code",
      "metadata": {
        "id": "50z8thS8n1Op",
        "colab_type": "code",
        "outputId": "3b528527-f6f2-4fbf-b1d6-8f0f6357a7b3",
        "colab": {
          "base_uri": "https://localhost:8080/",
          "height": 204
        }
      },
      "source": [
        "num_epochs = 10\n",
        "train(model, num_epochs, trainloader, optimizer, criterion, device)"
      ],
      "execution_count": 0,
      "outputs": [
        {
          "output_type": "stream",
          "text": [
            "[1] loss: 1.935\n",
            "[2] loss: 1.764\n",
            "[3] loss: 1.683\n",
            "[4] loss: 1.627\n",
            "[5] loss: 1.588\n",
            "[6] loss: 1.557\n",
            "[7] loss: 1.532\n",
            "[8] loss: 1.507\n",
            "[9] loss: 1.485\n",
            "[10] loss: 1.464\n",
            "Finished Training\n"
          ],
          "name": "stdout"
        }
      ]
    },
    {
      "cell_type": "markdown",
      "metadata": {
        "id": "hP57_qQrm2_G",
        "colab_type": "text"
      },
      "source": [
        "### Test the network on the test data"
      ]
    },
    {
      "cell_type": "code",
      "metadata": {
        "id": "jXnOhGJzmBYO",
        "colab_type": "code",
        "colab": {}
      },
      "source": [
        "def evaluate(model, dataloader, device):\n",
        "  model.eval() # Switch the flag\n",
        "  correct = 0\n",
        "  total = 0\n",
        "  with torch.no_grad():\n",
        "      for data in dataloader:\n",
        "          inputs, labels = data\n",
        "          inputs, labels = inputs.to(device), labels.to(device)\n",
        "          outputs = model(inputs) # forward\n",
        "          _, predicted = torch.max(outputs.data, 1)\n",
        "          total += labels.size(0)\n",
        "          correct += (predicted == labels).sum().item()\n",
        "\n",
        "  print('Accuracy of the network on the 10000 test images: %d %%' % (\n",
        "        100 * correct / total))"
      ],
      "execution_count": 0,
      "outputs": []
    },
    {
      "cell_type": "code",
      "metadata": {
        "id": "ADXLq0WvZqGw",
        "colab_type": "code",
        "outputId": "5e490d01-16cc-461b-d059-4d01c2d064d9",
        "colab": {
          "base_uri": "https://localhost:8080/",
          "height": 34
        }
      },
      "source": [
        "evaluate(model, testloader, device)"
      ],
      "execution_count": 0,
      "outputs": [
        {
          "output_type": "stream",
          "text": [
            "Accuracy of the network on the 10000 test images: 46 %\n"
          ],
          "name": "stdout"
        }
      ]
    },
    {
      "cell_type": "markdown",
      "metadata": {
        "id": "q1tTBy0tmGzQ",
        "colab_type": "text"
      },
      "source": [
        "Well, it's better than flipping a 10-sided die"
      ]
    },
    {
      "cell_type": "markdown",
      "metadata": {
        "id": "LZKRedZ2sHln",
        "colab_type": "text"
      },
      "source": [
        "# Train you own network\n",
        "\n",
        "What to do?\n",
        "\n",
        "- Normalize the inputs such that the mean and standard deviation are 0, 1 respectively for each channel. (Do this with PyTorch native methods, `mean()`, `std()` etc')\n",
        "- A more \"sophisticated\" model.\n",
        "\n",
        "Skeleton in the next notebook"
      ]
    },
    {
      "cell_type": "code",
      "metadata": {
        "id": "T8bq_t1SsUus",
        "colab_type": "code",
        "colab": {}
      },
      "source": [
        ""
      ],
      "execution_count": 0,
      "outputs": []
    }
  ]
}