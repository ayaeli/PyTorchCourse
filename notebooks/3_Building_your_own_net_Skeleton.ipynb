{
  "nbformat": 4,
  "nbformat_minor": 0,
  "metadata": {
    "colab": {
      "name": "3. Building your own net - Skeleton.ipynb",
      "version": "0.3.2",
      "provenance": [],
      "collapsed_sections": [],
      "include_colab_link": true
    },
    "kernelspec": {
      "name": "python3",
      "display_name": "Python 3"
    },
    "accelerator": "GPU"
  },
  "cells": [
    {
      "cell_type": "markdown",
      "metadata": {
        "id": "view-in-github",
        "colab_type": "text"
      },
      "source": [
        "<a href=\"https://colab.research.google.com/github/mataney/PyTorchCourse/blob/master/notebooks/3_Building_your_own_net_Skeleton.ipynb\" target=\"_parent\"><img src=\"https://colab.research.google.com/assets/colab-badge.svg\" alt=\"Open In Colab\"/></a>"
      ]
    },
    {
      "cell_type": "markdown",
      "metadata": {
        "id": "jMC5O5ZFRQiy",
        "colab_type": "text"
      },
      "source": [
        "# Train your own network\n",
        "\n",
        "This is the skeleton for writing your own upgraded classifier.  \n",
        "The next few cells are copy-pastes from the previous notebook.  \n",
        "Run them, then read a long for description of the tasks.  "
      ]
    },
    {
      "cell_type": "markdown",
      "metadata": {
        "id": "QeFlVjP_6fQ0",
        "colab_type": "text"
      },
      "source": [
        "## Load CIFAR10"
      ]
    },
    {
      "cell_type": "code",
      "metadata": {
        "id": "t6t2BtzuR84A",
        "colab_type": "code",
        "colab": {}
      },
      "source": [
        "import torch\n",
        "import torch.nn as nn\n",
        "import torch.nn.functional as F\n",
        "import torchvision"
      ],
      "execution_count": 0,
      "outputs": []
    },
    {
      "cell_type": "code",
      "metadata": {
        "id": "grf0qWK-Pwfz",
        "colab_type": "code",
        "colab": {}
      },
      "source": [
        "import torchvision.transforms as transforms\n",
        "transform = transforms.Compose([transforms.ToTensor()])"
      ],
      "execution_count": 0,
      "outputs": []
    },
    {
      "cell_type": "code",
      "metadata": {
        "id": "vU45DMNbalAn",
        "colab_type": "code",
        "outputId": "65b7b49e-18d9-4ba2-dd9a-e19e0a66a089",
        "colab": {
          "base_uri": "https://localhost:8080/",
          "height": 52
        }
      },
      "source": [
        "batch_size = 32\n",
        "\n",
        "trainset = torchvision.datasets.CIFAR10(root='./data', train=True,\n",
        "                                        download=True, transform=transform)\n",
        "trainloader = torch.utils.data.DataLoader(trainset, batch_size=batch_size,\n",
        "                                          shuffle=True, num_workers=2)\n",
        "\n",
        "testset = torchvision.datasets.CIFAR10(root='./data', train=False,\n",
        "                                       download=True, transform=transform)\n",
        "testloader = torch.utils.data.DataLoader(testset, batch_size=batch_size,\n",
        "                                         shuffle=False, num_workers=2)\n",
        "\n",
        "classes = ('plane', 'car', 'bird', 'cat',\n",
        "           'deer', 'dog', 'frog', 'horse', 'ship', 'truck')\n"
      ],
      "execution_count": 0,
      "outputs": [
        {
          "output_type": "stream",
          "text": [
            "Files already downloaded and verified\n",
            "Files already downloaded and verified\n"
          ],
          "name": "stdout"
        }
      ]
    },
    {
      "cell_type": "markdown",
      "metadata": {
        "id": "paQT8mxpmuOi",
        "colab_type": "text"
      },
      "source": [
        "### Train and Evaluation loop"
      ]
    },
    {
      "cell_type": "code",
      "metadata": {
        "id": "PxqgplA_m0xu",
        "colab_type": "code",
        "colab": {}
      },
      "source": [
        "def train(model, num_epochs, trainloader, optimizer, criterion, device):\n",
        "  model.train()\n",
        "  for epoch in range(num_epochs):\n",
        "      running_loss = 0.0\n",
        "      for i, data in enumerate(trainloader, 0):\n",
        "          # get the inputs\n",
        "          inputs, labels = data\n",
        "          inputs, labels = inputs.to(device), labels.to(device)\n",
        "\n",
        "          # zero the parameter gradients\n",
        "          optimizer.zero_grad()\n",
        "\n",
        "          # forward + backward + optimize\n",
        "          outputs = model(inputs)\n",
        "          loss = criterion(outputs, labels)\n",
        "          loss.backward()\n",
        "          optimizer.step()\n",
        "\n",
        "          # print statistics\n",
        "          running_loss += loss.item()\n",
        "          if i % 200 == 199:    # print every 200 mini-batches\n",
        "              print('[%d, %5d] loss: %.3f' %\n",
        "                    (epoch + 1, i + 1, running_loss / 200))\n",
        "              running_loss = 0.0\n",
        "\n",
        "  print('Finished Training')"
      ],
      "execution_count": 0,
      "outputs": []
    },
    {
      "cell_type": "code",
      "metadata": {
        "id": "jXnOhGJzmBYO",
        "colab_type": "code",
        "colab": {}
      },
      "source": [
        "def evaluate(model, dataloader, device):\n",
        "  correct = 0\n",
        "  total = 0\n",
        "  model.eval()\n",
        "  with torch.no_grad():\n",
        "      for data in dataloader:\n",
        "          inputs, labels = data\n",
        "          inputs, labels = inputs.to(device), labels.to(device)\n",
        "          outputs = model(inputs)\n",
        "          _, predicted = torch.max(outputs.data, 1)\n",
        "          total += labels.size(0)\n",
        "          correct += (predicted == labels).sum().item()\n",
        "\n",
        "  print('Accuracy of the network on the 10000 test images: %d %%' % (\n",
        "      100 * correct / total))"
      ],
      "execution_count": 0,
      "outputs": []
    },
    {
      "cell_type": "markdown",
      "metadata": {
        "id": "v0ZjY0198Euf",
        "colab_type": "text"
      },
      "source": [
        "## More Transformations!"
      ]
    },
    {
      "cell_type": "markdown",
      "metadata": {
        "id": "8m2SLELQySxf",
        "colab_type": "text"
      },
      "source": [
        "### Description\n",
        "\n",
        "Before we update our model, lets try to give it better inputs.  \n",
        "Let's add \n",
        " - Data Augmentation (more -> better)\n",
        " - Normalizing the input images (Theoreticall, your network will train better when the inputs are normalized, related to the way the weights are initialized).\n",
        "How to do this:  \n",
        "\n",
        "We define a `transform` instance and read our data using it.  \n",
        "Reread the **train data** with your own `transform` instance.\n",
        "\n",
        "- Horizontally flip the given PIL Image randomly with a given probability, use default probability. \n",
        " - **Hint:** Look at [`RandomHorizontalFlip`](https://pytorch.org/docs/stable/torchvision/transforms.html#torchvision.transforms.RandomHorizontalFlip).\n",
        "-  Normalize the inputs such that the mean and standard deviation are 0, 1 respectively for each channel. \n",
        "  - Normalize using standard normalization:  \n",
        "    $x' = \\frac{x-\\mu}{\\sigma}$, or  \n",
        "    `input[channel] = (input[channel]-mean[channel]) / std[channel]`  \n",
        "  - **Hint:** use [Normalize](https://pytorch.org/docs/stable/torchvision/transforms.html#torchvision.transforms.RandomHorizontalFlip)  to preform such transformation.  \n",
        "    We need 2 vectors of size `channels`, to represent the mean and std of each channel, find these.\n",
        "- Don't forget to use the same `ToTensor` transformation we used.\n",
        "\n",
        "Reread the **test data** using the same normalization as the train data, but don't augment the data. (Again, don't forget to use `ToTensor`)\n",
        "\n",
        "\n",
        "Yes, you can do this in python with loops etc, but try to do this with native Torch native methods, `mean()`, `std()` etc'.  \n",
        "**Hint:** You will probably want to stack all the images to one tensor. use `torch.stack([t[0] for t in trainset])` then you will have a `[50000, 3, 32, 32]` size tensor with all the images."
      ]
    },
    {
      "cell_type": "markdown",
      "metadata": {
        "colab_type": "text",
        "id": "ne6Vms1MEadD"
      },
      "source": [
        "### Your Implemention"
      ]
    },
    {
      "cell_type": "code",
      "metadata": {
        "colab_type": "code",
        "id": "e-CwM4z2EaUD",
        "colab": {}
      },
      "source": [
        ""
      ],
      "execution_count": 0,
      "outputs": []
    },
    {
      "cell_type": "markdown",
      "metadata": {
        "id": "Tv3g7uXDg9ms",
        "colab_type": "text"
      },
      "source": [
        "# CNN"
      ]
    },
    {
      "cell_type": "markdown",
      "metadata": {
        "id": "OS-Ht6Zwrb3N",
        "colab_type": "text"
      },
      "source": [
        "Define the following CNN:\n",
        " - It should have a 3 Convolution layers.\n",
        " - It should have a Deep FC layer."
      ]
    },
    {
      "cell_type": "markdown",
      "metadata": {
        "id": "Ny3j2FVuxwCC",
        "colab_type": "text"
      },
      "source": [
        "## Deep Fully Connected\n"
      ]
    },
    {
      "cell_type": "markdown",
      "metadata": {
        "id": "9mqkh3P5DoVl",
        "colab_type": "text"
      },
      "source": [
        "While it will be the later layer of our network, let's start with the Deep FC network.  \n",
        "We  should define such network in an independent way from CNN,  \n",
        "so when we want to reuse it, we can.\n",
        "\n",
        "Define the following network (x is input)\n",
        "\n",
        "$x \\rightarrow dropout \\rightarrow linearLayer_1 \\rightarrow relu \\rightarrow linearLayer_2 \\rightarrow relu \\rightarrow dropout \\rightarrow linearLayer_3$\n",
        "\n",
        "Make the The input/hidden/output sizes and the Dropout probability decided by the constructor arugments."
      ]
    },
    {
      "cell_type": "markdown",
      "metadata": {
        "id": "JjIvQE5mxoNP",
        "colab_type": "text"
      },
      "source": [
        "### Your implementation"
      ]
    },
    {
      "cell_type": "code",
      "metadata": {
        "id": "-d4xe-Vqxn_J",
        "colab_type": "code",
        "colab": {
          "base_uri": "https://localhost:8080/",
          "height": 184
        },
        "outputId": "61682b89-27a8-47d1-ee8c-f3d199d412fe"
      },
      "source": [
        "class FC(nn.Module):\n",
        "  pass"
      ],
      "execution_count": 1,
      "outputs": [
        {
          "output_type": "error",
          "ename": "NameError",
          "evalue": "ignored",
          "traceback": [
            "\u001b[0;31m---------------------------------------------------------------------------\u001b[0m",
            "\u001b[0;31mNameError\u001b[0m                                 Traceback (most recent call last)",
            "\u001b[0;32m<ipython-input-1-a2c158133a3c>\u001b[0m in \u001b[0;36m<module>\u001b[0;34m()\u001b[0m\n\u001b[0;32m----> 1\u001b[0;31m \u001b[0;32mclass\u001b[0m \u001b[0mFC\u001b[0m\u001b[0;34m(\u001b[0m\u001b[0mnn\u001b[0m\u001b[0;34m.\u001b[0m\u001b[0mModule\u001b[0m\u001b[0;34m)\u001b[0m\u001b[0;34m:\u001b[0m\u001b[0;34m\u001b[0m\u001b[0;34m\u001b[0m\u001b[0m\n\u001b[0m\u001b[1;32m      2\u001b[0m   \u001b[0;32mpass\u001b[0m\u001b[0;34m\u001b[0m\u001b[0;34m\u001b[0m\u001b[0m\n",
            "\u001b[0;31mNameError\u001b[0m: name 'nn' is not defined"
          ]
        }
      ]
    },
    {
      "cell_type": "markdown",
      "metadata": {
        "id": "dJ4tQTXz0bk0",
        "colab_type": "text"
      },
      "source": [
        "## Deep Convolution Layer"
      ]
    },
    {
      "cell_type": "markdown",
      "metadata": {
        "id": "VtzegqpW0oR3",
        "colab_type": "text"
      },
      "source": [
        "We want to define a single Deep Convolution network (Then, we will initialize it 3 times)\n",
        "\n",
        "Define the following network (x is input)\n",
        "\n",
        "$x \\rightarrow ConvLayer_1 \\rightarrow batch~normalization \\rightarrow relu \\rightarrow ConvLayer_2 \\rightarrow relu \\rightarrow pooling \\rightarrow dropout $\n",
        "\n",
        "Each ConvLayer is defined with a few arguments: \n",
        "- number of input channels\n",
        "- number of output channels\n",
        "- kernel size\n",
        "- padding\n",
        "\n",
        "(There are other arguments, like stride and dilation, we don't use these here)\n",
        "\n",
        "Set these accordingly:  \n",
        "- Set $Convolution_1$ to be `(c_in, c_hidden, 3, 1)` respectively.  \n",
        "- Set $Convolution_2$ to be `(c_hidden, c_out, 3, 1)` respectively.  \n",
        "(Hint: Check out `nn.Conv2d`)\n",
        "\n",
        "- Set Batch Normalization to be the same size as $Convolution_1$ output (`c_out`).  \n",
        "(Hint: Check out `nn.BatchNorm2d`)\n",
        "\n",
        "- Set pooling of `kernel_size=2` and `stride=2`.  \n",
        "(Hint: Check out `nn.MaxPool2d`)\n",
        "\n",
        "- Set Dropout with dropout probability of `.0`.  \n",
        "(Hint: Check out `nn.Dropout2d`)"
      ]
    },
    {
      "cell_type": "markdown",
      "metadata": {
        "id": "UbmFokrA0j5S",
        "colab_type": "text"
      },
      "source": [
        "### Your Implementation"
      ]
    },
    {
      "cell_type": "code",
      "metadata": {
        "id": "4q4Jdn1a0mxY",
        "colab_type": "code",
        "colab": {}
      },
      "source": [
        "class ConvLayer(nn.Module):\n",
        "  pass"
      ],
      "execution_count": 0,
      "outputs": []
    },
    {
      "cell_type": "markdown",
      "metadata": {
        "id": "9tvOS_fq8pbX",
        "colab_type": "text"
      },
      "source": [
        "## Deep CNN"
      ]
    },
    {
      "cell_type": "markdown",
      "metadata": {
        "id": "q6IVW0T08uOy",
        "colab_type": "text"
      },
      "source": [
        "After we have these 2 new network, let's use them to create our end2end CNN model.\n",
        "\n",
        "Define the following network (x is input)\n",
        "\n",
        "$x \\rightarrow DeepConvLayer_1 \\rightarrow DeepConvLayer_2 \\rightarrow DeepConvLayer_3 \\rightarrow FC$\n",
        "\n",
        "You can also stack the three DeepConvLayers to a single layer using the `nn.Sequential` function. Give this a go.\n",
        "\n",
        "For our ConvLayers set `(c_in, c_hidden, c_out, dropout_p=.0)` to be:  \n",
        "- $DeepConvLayer_1:$ `(3, 32, 64)` respectively.\n",
        "- $DeepConvLayer_2:$ `(64, 128, 128, 0.05)` respectively.\n",
        "- $DeepConvLayer_3:$ `(128, 256, 256)` respectively.\n",
        "\n",
        "For the FC, set  \n",
        "- The input/hidden/output sizes are 4096, 1024, 512, 10.  \n",
        "- Dropout probability is 0.1\n",
        "\n",
        "\n",
        "\n",
        "**Something you might require to think about:**  \n",
        "You should always keep track of the sizes the input is receiving and returning.  \n",
        "For example, what is the output of size the third convolution?  \n",
        "what is the input size of the FC?  \n",
        "This is not an easy one, you can just run and see why it collapses, as we did before :)  \n",
        "Do these match?"
      ]
    },
    {
      "cell_type": "markdown",
      "metadata": {
        "id": "K7Hg7yxICQp1",
        "colab_type": "text"
      },
      "source": [
        "### Your Implementation"
      ]
    },
    {
      "cell_type": "code",
      "metadata": {
        "id": "geWgJGPmCQic",
        "colab_type": "code",
        "colab": {}
      },
      "source": [
        "class CNN(nn.Module):\n",
        "  pass"
      ],
      "execution_count": 0,
      "outputs": []
    },
    {
      "cell_type": "markdown",
      "metadata": {
        "id": "5EGAInjKCers",
        "colab_type": "text"
      },
      "source": [
        "## Train Model"
      ]
    },
    {
      "cell_type": "markdown",
      "metadata": {
        "id": "fJ9UtQP-CjZw",
        "colab_type": "text"
      },
      "source": [
        "Initialize and set to run on CUDA"
      ]
    },
    {
      "cell_type": "code",
      "metadata": {
        "colab_type": "code",
        "id": "oVYO-IvI5kUL",
        "colab": {}
      },
      "source": [
        "model = CNN()"
      ],
      "execution_count": 0,
      "outputs": []
    },
    {
      "cell_type": "code",
      "metadata": {
        "id": "5qz64p18CLtA",
        "colab_type": "code",
        "colab": {}
      },
      "source": [
        "device = torch.device(\"cuda:0\" if torch.cuda.is_available() else \"cpu\")\n",
        "model.to(device)"
      ],
      "execution_count": 0,
      "outputs": []
    },
    {
      "cell_type": "code",
      "metadata": {
        "id": "9tS971trh-Ww",
        "colab_type": "code",
        "colab": {}
      },
      "source": [
        "import torch.optim as optim\n",
        "\n",
        "criterion = nn.CrossEntropyLoss()\n",
        "optimizer = optim.Adam(model.parameters(), lr=0.001, weight_decay=1e-08)"
      ],
      "execution_count": 0,
      "outputs": []
    },
    {
      "cell_type": "code",
      "metadata": {
        "id": "50z8thS8n1Op",
        "colab_type": "code",
        "colab": {}
      },
      "source": [
        "num_epochs = 2\n",
        "train(model, num_epochs, trainloader, optimizer, criterion, device)"
      ],
      "execution_count": 0,
      "outputs": []
    },
    {
      "cell_type": "markdown",
      "metadata": {
        "id": "hP57_qQrm2_G",
        "colab_type": "text"
      },
      "source": [
        "### Test the network on the test data"
      ]
    },
    {
      "cell_type": "code",
      "metadata": {
        "id": "ADXLq0WvZqGw",
        "colab_type": "code",
        "colab": {}
      },
      "source": [
        "evaluate(model, testloader, device)"
      ],
      "execution_count": 0,
      "outputs": []
    },
    {
      "cell_type": "code",
      "metadata": {
        "id": "P67DkaO5QA4E",
        "colab_type": "code",
        "colab": {}
      },
      "source": [
        ""
      ],
      "execution_count": 0,
      "outputs": []
    }
  ]
}